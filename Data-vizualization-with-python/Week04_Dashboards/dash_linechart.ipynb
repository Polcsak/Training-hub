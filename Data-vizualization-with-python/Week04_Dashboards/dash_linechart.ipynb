{
 "cells": [
  {
   "cell_type": "markdown",
   "metadata": {},
   "source": [
    "### Tasks To do:\n",
    "\n",
    "1.  Task 1\n",
    "    -   Import required libraries\n",
    "    -   Read the dataset\n",
    "2.  Task 2\n",
    "    -   Create an application layout\n",
    "    -   Add title to the dashboard application using HTML H1 component\n",
    "3.  Task 3\n",
    "    -   Add input text box using core input and output components\n",
    "    -   Add the callback decorator and generate the line chart within\n",
    "        the callback function.\n",
    "4.  Task 4\n",
    "    -   Practice Exercise"
   ]
  },
  {
   "cell_type": "markdown",
   "metadata": {},
   "source": [
    "### TASK 1 - Read the data\n",
    "\n",
    "Here you will be:\n",
    "\n",
    "-   Importing necessary libraries\n",
    "-   Reading the data from a CSV file\n",
    "\n",
    "In this exercise we require the following libraries : - `pandas` -\n",
    "`plotly` - `dash` - `dash_html_components` - `dash_core_components` -\n",
    "`dash.dependencies`\n",
    "\n",
    "Now we will read the dataset using the `pd.read_csv()` function.\n",
    "\n",
    "    airline_data =  pd.read_csv('https://cf-courses-data.s3.us.cloud-object-storage.appdomain.cloud/IBMDeveloperSkillsNetwork-DV0101EN-SkillsNetwork/Data%20Files/airline_data.csv', \n",
    "                                encoding = \"ISO-8859-1\",\n",
    "                                dtype={'Div1Airport': str, 'Div1TailNum': str, \n",
    "                                       'Div2Airport': str, 'Div2TailNum': str})\n",
    "\n",
    "-   The above code reads a CSV file called **airline_data.csv** from a\n",
    "    URL using pandas, a popular data analysis library in Python.\n",
    "-   The file is encoded using `ISO-8859-1 character encoding`, which is\n",
    "    a standard way of representing characters in the file.\n",
    "-   We defined data type of specific columns such as\n",
    "    `(Div1Airport, Div1TailNum, Div2Airport, and Div2TailNum)` to be\n",
    "    strings, which ensures that these columns are read as text instead\n",
    "    of numbers.\n",
    "-   The resulting data is stored in a pandas dataframe object called\n",
    "    `airline_data`, which can be used for further analysis."
   ]
  },
  {
   "cell_type": "code",
   "execution_count": 1,
   "metadata": {},
   "outputs": [
    {
     "name": "stdout",
     "output_type": "stream",
     "text": [
      "CSV file read successfully.\n"
     ]
    }
   ],
   "source": [
    "# Import required libraries\n",
    "import pandas as pd\n",
    "import plotly.graph_objects as go\n",
    "import dash\n",
    "from dash import dcc\n",
    "from dash import html\n",
    "from dash.dependencies import Input, Output\n",
    "\n",
    "# Read downloaded dataset\n",
    "airline_data = pd.read_csv('C:/Users/jakub/Desktop/Projekty/Data vizualization with python/week04_dashboards/airline_data.csv', \n",
    "                           encoding=\"ISO-8859-1\", \n",
    "                           dtype={'Div1Airport': str, \n",
    "                                  'Div1TailNum': str, \n",
    "                                  'Div2Airport': str, \n",
    "                                  'Div2TailNum': str})\n",
    "    \n",
    "print(\"CSV file read successfully.\")"
   ]
  },
  {
   "cell_type": "markdown",
   "metadata": {},
   "source": [
    "### TASK 2 - Create an application layout\n",
    "\n",
    "Next, we create a skeleton for our dash application. Overall this layout\n",
    "creates a simple container with a heading, an input field, and some\n",
    "empty space.\n",
    "\n",
    "In the upcoming tasks, you can modify and add new components and styles\n",
    "to the basic layout provided. This will allow you to customize and\n",
    "enhance the user interface of your Dash app to meet your specific needs\n",
    "and requirements as follows:\n",
    "\n",
    "-   First we will define an application `app.layout`.\n",
    "\n",
    "-   Create a heading using html.h1() and add style information within\n",
    "    the divison `html.Div()`.\n",
    "\n",
    "-   create a inner division using `html.Div()` function for adding input\n",
    "    and output components such as: \n",
    "\n",
    "    -   Input: `label`, dropdown `input-year` and style parameters\n",
    "    -   Output: type of Graph `line-plot`\n"
   ]
  },
  {
   "cell_type": "code",
   "execution_count": 2,
   "metadata": {},
   "outputs": [],
   "source": [
    "# Create a dash application layout\n",
    "app = dash.Dash(__name__)\n",
    "\n",
    "# Get the layout of the application and adjust it.\n",
    "# Create an outer division using html.Div and add title to the dashboard using html.H1 component\n",
    "# Add a html.Div and core input text component\n",
    "# Finally, add graph component.\n",
    "app.layout = html.Div(children=[html.H1('Airline Performance Dashboard',\n",
    "                                        style={'textAlign': 'center', 'color': '#503D36', 'font-size': 40}),\n",
    "                                html.Div([\"Input Year\", dcc.Input(),], \n",
    "                                style={}),\n",
    "                                html.Br(),\n",
    "                                html.Br(),\n",
    "                                html.Div(),\n",
    "                                ])"
   ]
  },
  {
   "cell_type": "markdown",
   "metadata": {},
   "source": [
    "### Input component\n",
    "\n",
    "-   As our input is a dropdown showing a list of years we will use the\n",
    "    [dcc.Input()](https://dash.plotly.com/dash-core-components/input)\n",
    "    function. We define the following parameters\n",
    "    -   `id`: `input-year`, which is a unique identifier for this\n",
    "        specific input field. The default `value` for this input field\n",
    "        will be set to `2010`, and the type of `input` will be a\n",
    "        `number`.\n",
    "-   `style` parameter for the dropdown: Here within it we\n",
    "    define’height`of the input box to be`50px`and`font-size`to be`35\\`\n",
    "    to make the text larger and more readable.\n",
    "-   `style` parameter for the whole division: Now assign `font-size` as\n",
    "    `40` .\n",
    "\n",
    "### Output component\n",
    "\n",
    "-   Add `dcc.Graph()` component to the second division.\n",
    "-   Update\n",
    "    [dcc.Graph](https://dash.plotly.com/dash-core-components/graph)\n",
    "    component `id` as `line-plot`.\n",
    "\n",
    "*NOTE*: After adding the componenets you code will look like below\n",
    "code.(You can copy dash application code to `dash_interactivity.py`\n",
    "script and run).\n",
    "\n",
    "**To terminate a currently running program in the Python terminal (also\n",
    "known as the Python REPL), you can use the KeyboardInterrupt shortcut.\n",
    "This can be done by pressing the CTRL and C keys simultaneously.**"
   ]
  },
  {
   "cell_type": "code",
   "execution_count": 9,
   "metadata": {},
   "outputs": [],
   "source": [
    "#(mod_01)\n",
    "# Create a dash application layout\n",
    "app = dash.Dash(__name__)\n",
    "\n",
    "# Get the layout of the application and adjust it.\n",
    "# Create an outer division using html.Div and add title to the dashboard using html.H1 component\n",
    "# Add a html.Div and core input text component\n",
    "# Finally, add graph component.\n",
    "app.layout = html.Div(style={'backgroundColor': '#add8e6'},\n",
    "                      children=[html.H1('Airline Performance Dashboard',\n",
    "                                        style={'textAlign': 'center', 'color': '#503D36', 'font-size': 40}),\n",
    "                                html.Div([\"Input Year\", dcc.Input(id='input-year', \n",
    "                                                                  value='2010',\n",
    "                                                                  type='number', \n",
    "                                                                  style={'height':'50px', 'font-size': 35})], \n",
    "                                style={'font-size': 40}),\n",
    "                                html.Br(),\n",
    "                                html.Br(),\n",
    "                                html.Div(dcc.Graph(id='line-plot')),\n",
    "                                ])"
   ]
  },
  {
   "cell_type": "markdown",
   "metadata": {},
   "source": [
    "### TASK 3 - Add the application callback function\n",
    "\n",
    "#### Callback\n",
    "\n",
    "In Python, **@app.callback** is a decorator used in the Dash framework\n",
    "to specify that a function should be called when an input component\n",
    "changes its value.The Input and Output functions are used to define the\n",
    "inputs and outputs of a callback function.\n",
    "\n",
    "The core idea of this application is to get year as `user input`(input\n",
    "function) and update the dashboard(output function) in real-time with\n",
    "the help of `callback` function.\n",
    "\n",
    "Steps:\n",
    "\n",
    "-   Define the callback decorator\n",
    "-   Define the callback function that uses the input provided to perform\n",
    "    the computation\n",
    "-   Create graph and return it as an output\n",
    "\n",
    "The below code is base structure for calback decorator and function\n",
    "graph.\n"
   ]
  },
  {
   "cell_type": "markdown",
   "metadata": {},
   "source": [
    "### Callback decorator\n",
    "\n",
    "-   Refer to examples provided\n",
    "    [here](https://dash.plotly.com/basic-callbacks)\n",
    "-   `Input()` function takes two parameters:\n",
    "    -   `component-id` with the value `input-year`, which is the ID of\n",
    "        the input dropdown.\n",
    "    -   `component_property` being accessed is the `value` property,\n",
    "        which represents the year entered by the user.\n",
    "-   `Output()`function takes two parameters:\n",
    "    -   `component-id` with the value `line-plot`, which is the id of\n",
    "        the output.\n",
    "    -   `component_property` being modified is the `figure` property,\n",
    "        which specifies the data and layout of the line plot."
   ]
  },
  {
   "cell_type": "markdown",
   "metadata": {},
   "source": [
    "-   Update `data` parameter of the `go.Figure()` with the scatter plot.\n",
    "    Refer\n",
    "    [here](https://plotly.com/python/line-and-scatter/#scatter-and-line-plot-with-goscatter).\n",
    "    Sample syntax below:\n",
    "\n",
    "<!-- -->\n",
    "\n",
    "    go.Scatter(x='----', y='----', mode='-----', marker='----)\n",
    "\n",
    "In the go.Scatter() update the parameter as below:\n",
    "\n",
    "-   Update x as `line_data['Month']`\n",
    "\n",
    "-   Update y as `line_data['ArrDelay']`\n",
    "\n",
    "-   Update `mode` as `lines`, and `marker` as `dict(color='green')`\n",
    "\n",
    "-   Update `fig.update_layout` with title, xaxis_title, and yaxis_title\n",
    "    parameters.\n",
    "\n",
    "    -   Title as `Month vs Average Flight Delay Time`\n",
    "    -   `xaxis_title` as `Month`\n",
    "    -   `yaxis_title` as `ArrDelay` Refer the updated layout function\n",
    "        [here](https://plotly.com/python/line-and-scatter/#style-scatter-plots).\n",
    "\n",
    "Refer to the full python code of `dash_interactivity.py` below:"
   ]
  },
  {
   "cell_type": "code",
   "execution_count": 16,
   "metadata": {},
   "outputs": [
    {
     "data": {
      "text/html": [
       "\n",
       "        <iframe\n",
       "            width=\"100%\"\n",
       "            height=\"650\"\n",
       "            src=\"http://127.0.0.1:8050/\"\n",
       "            frameborder=\"0\"\n",
       "            allowfullscreen\n",
       "            \n",
       "        ></iframe>\n",
       "        "
      ],
      "text/plain": [
       "<IPython.lib.display.IFrame at 0x1f1ff3c8f50>"
      ]
     },
     "metadata": {},
     "output_type": "display_data"
    }
   ],
   "source": [
    "#(mod_02)\n",
    "# Create a dash application layout\n",
    "app = dash.Dash(__name__)\n",
    "\n",
    "# Get the layout of the application and adjust it.\n",
    "# Create an outer division using html.Div and add title to the dashboard using html.H1 component\n",
    "# Add a html.Div and core input text component\n",
    "# Finally, add graph component.\n",
    "app.layout = html.Div(style={'backgroundColor': '#add8e6'},\n",
    "                      children=[html.H1('Airline Performance Dashboard',\n",
    "                                        style={'textAlign': 'center', 'color': '#503D36', 'font-size': 40}),\n",
    "                                html.Div([\"Input Year\", dcc.Input(id='input-year', \n",
    "                                                                  value='2010',\n",
    "                                                                  type='number', \n",
    "                                                                  style={'height':'50px', 'font-size': 35})], \n",
    "                                style={'font-size': 40}),\n",
    "                                html.Br(),\n",
    "                                html.Br(),\n",
    "                                html.Div(dcc.Graph(id='line-plot')),\n",
    "                                ])\n",
    "\n",
    "# add callback decorator\n",
    "\n",
    "@app.callback(Output(component_id='line-plot', component_property='figure'),\n",
    "              Input(component_id='input-year', component_property='value'))\n",
    "\n",
    "# Add computation to callback function and return graph\n",
    "def get_graph(entered_year):\n",
    "        # Select 2019 data\n",
    "        df =  airline_data[airline_data['Year']==int(entered_year)]\n",
    "        \n",
    "        # Group the data by Month and compute average over arrival delay time.\n",
    "        line_data = df.groupby('Month')['ArrDelay'].mean().reset_index()\n",
    "\n",
    "        fig = go.Figure(data=go.Scatter(x=line_data['Month'], y=line_data['ArrDelay'], mode='lines', marker=dict(color='green')))\n",
    "        fig.update_layout(title='Month vs Average Flight Delay Time', xaxis_title='Month', yaxis_title='ArrDelay')\n",
    "        return fig\n",
    "\n",
    "    # Run the app\n",
    "if __name__ == '__main__':\n",
    "        app.run_server()"
   ]
  },
  {
   "cell_type": "code",
   "execution_count": 17,
   "metadata": {},
   "outputs": [
    {
     "data": {
      "text/html": [
       "\n",
       "        <iframe\n",
       "            width=\"100%\"\n",
       "            height=\"650\"\n",
       "            src=\"http://127.0.0.1:8050/\"\n",
       "            frameborder=\"0\"\n",
       "            allowfullscreen\n",
       "            \n",
       "        ></iframe>\n",
       "        "
      ],
      "text/plain": [
       "<IPython.lib.display.IFrame at 0x1f18e1e0e60>"
      ]
     },
     "metadata": {},
     "output_type": "display_data"
    }
   ],
   "source": [
    "if __name__ == '__main__':\n",
    "    app.run_server()"
   ]
  }
 ],
 "metadata": {
  "kernelspec": {
   "display_name": "Python 3",
   "language": "python",
   "name": "python3"
  },
  "language_info": {
   "codemirror_mode": {
    "name": "ipython",
    "version": 3
   },
   "file_extension": ".py",
   "mimetype": "text/x-python",
   "name": "python",
   "nbconvert_exporter": "python",
   "pygments_lexer": "ipython3",
   "version": "3.12.2"
  }
 },
 "nbformat": 4,
 "nbformat_minor": 2
}
